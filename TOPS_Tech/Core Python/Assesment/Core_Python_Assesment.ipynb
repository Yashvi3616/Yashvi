{
 "cells": [
  {
   "cell_type": "code",
   "execution_count": 3,
   "id": "bd6477e7-b6b3-412d-b035-c304d15310be",
   "metadata": {},
   "outputs": [],
   "source": [
    "class atm:\n",
    "    def __init__(self):\n",
    "        self.pin=''\n",
    "        self.balance=0\n",
    "        self.create_pin()\n",
    "\n",
    "    def menu(self):\n",
    "        user_input=input('''\n",
    "        How can I help you?\n",
    "        1.Press 1 to change pin\n",
    "        2.deposit money\n",
    "        3.check balance\n",
    "        4.withdraw money \n",
    "        5.press 5 to exit ''')\n",
    "\n",
    "        if user_input=='1':\n",
    "            self.create_pin()\n",
    "        elif user_input=='2':\n",
    "            self.deposit_money()\n",
    "        elif user_input=='3':\n",
    "            self.check_balance()\n",
    "        elif user_input=='4':\n",
    "            self.withdrawal()\n",
    "        else:\n",
    "            print(\"Thank you for visiting\")\n",
    "            exit()\n",
    "            \n",
    "    def create_pin(self):\n",
    "        while True:\n",
    "            user_pin = input(\"Enter your new pin (min 6 characters, at least 4 numbers and 1 special character): \")\n",
    "            confirm_pin=input(\"Enter your password again for confirmation\")\n",
    "            digit_count = sum(char.isdigit() for char in confirm_pin)\n",
    "            if confirm_pin == user_pin:\n",
    "                if len(confirm_pin) >= 10 and digit_count >= 4:\n",
    "                    self.pin = confirm_pin\n",
    "                    print(\"Pin created successfully.\")\n",
    "                    print(\"Your account is currently empty. Kindly deposit some money...\")\n",
    "                    self.deposit_money()\n",
    "                    break\n",
    "                else:\n",
    "                    if len(confirm_pin) < 6:\n",
    "                        print(\"Error: Pin must be at least 6 characters long.\")\n",
    "                    if digit_count < 4:\n",
    "                        print(\"Error: Pin must contain at least 4 numbers.\")\n",
    "                    print(\"Please try again.\")\n",
    "            else:\n",
    "                print(\"Pins did not match. Please try again.\")\n",
    "\n",
    "    def deposit_money(self):\n",
    "        user_pin=input(\"To deposit money enter your pin\")\n",
    "        if user_pin==self.pin:\n",
    "            print(f\"Your current balance is {self.balance}\")\n",
    "            user_money=int(input(\"Enter amount to deposit\"))\n",
    "            self.balance+=user_money\n",
    "            print(f\"Your money has been deposited,your current balance is {self.balance}\")\n",
    "            self.menu()\n",
    "        else:\n",
    "            print(\"Pin is incorrect\")#(!!!ASSESMENT!!!)can use lopp if they enter 3 wrong pass you can print message like you can't use site for some time\n",
    "            self.deposit_money()\n",
    "\n",
    "    def check_balance(self):\n",
    "        user_pin=input(\"To deposit money enter your pin\")\n",
    "        if user_pin==self.pin:\n",
    "            print(f\"Your current balance is {self.balance}\")\n",
    "            self.menu()\n",
    "        else:\n",
    "            print(\"Please enter valid password\")\n",
    "            self.menu()\n",
    "\n",
    "    def withdrawal(self):\n",
    "        user_pin=input(\"To deposit money enter your pin\")\n",
    "        if user_pin==self.pin:\n",
    "            amount=int(input(\"Enter a money price you want to withdraw\"))\n",
    "            if amount<=self.balance:\n",
    "                self.balance-=amount\n",
    "                print(\"Take your money\")\n",
    "                self.menu()\n",
    "            else:\n",
    "                print(\"amount is not satisfied with balance please enter amount according to your balance\")\n",
    "                self.withdrawal()\n",
    "        else:\n",
    "            print(\"Incorrect pin\")\n",
    "            self.menu()\n"
   ]
  },
  {
   "cell_type": "code",
   "execution_count": 5,
   "id": "4e2925d6-3c3a-4d05-84a0-def59cd645a7",
   "metadata": {},
   "outputs": [
    {
     "name": "stdin",
     "output_type": "stream",
     "text": [
      "Enter your new pin (min 6 characters, at least 4 numbers and 1 special character):  Yashvi355\n",
      "Enter your password again for confirmation Yashvi355\n"
     ]
    },
    {
     "name": "stdout",
     "output_type": "stream",
     "text": [
      "Error: Pin must contain at least 4 numbers.\n",
      "Please try again.\n"
     ]
    },
    {
     "name": "stdin",
     "output_type": "stream",
     "text": [
      "Enter your new pin (min 6 characters, at least 4 numbers and 1 special character):  Yashvi3616\n",
      "Enter your password again for confirmation Yashvi3616\n"
     ]
    },
    {
     "name": "stdout",
     "output_type": "stream",
     "text": [
      "Pin created successfully.\n",
      "Your account is currently empty. Kindly deposit some money...\n"
     ]
    },
    {
     "name": "stdin",
     "output_type": "stream",
     "text": [
      "To deposit money enter your pin Yashvi3616\n"
     ]
    },
    {
     "name": "stdout",
     "output_type": "stream",
     "text": [
      "Your current balance is 0\n"
     ]
    },
    {
     "name": "stdin",
     "output_type": "stream",
     "text": [
      "Enter amount to deposit 15000\n"
     ]
    },
    {
     "name": "stdout",
     "output_type": "stream",
     "text": [
      "Your money has been deposited,your current balance is 15000\n"
     ]
    },
    {
     "name": "stdin",
     "output_type": "stream",
     "text": [
      "\n",
      "        How can I help you?\n",
      "        1.Press 1 to change pin\n",
      "        2.deposit money\n",
      "        3.check balance\n",
      "        4.withdraw money \n",
      "        5.press 5 to exit  3\n",
      "To deposit money enter your pin Yashvi3616\n"
     ]
    },
    {
     "name": "stdout",
     "output_type": "stream",
     "text": [
      "Your current balance is 15000\n"
     ]
    },
    {
     "name": "stdin",
     "output_type": "stream",
     "text": [
      "\n",
      "        How can I help you?\n",
      "        1.Press 1 to change pin\n",
      "        2.deposit money\n",
      "        3.check balance\n",
      "        4.withdraw money \n",
      "        5.press 5 to exit  4\n",
      "To deposit money enter your pin Yashvi3616\n",
      "Enter a money price you want to withdraw 17000\n"
     ]
    },
    {
     "name": "stdout",
     "output_type": "stream",
     "text": [
      "amount is not satisfied with balance please enter amount according to your balance\n"
     ]
    },
    {
     "name": "stdin",
     "output_type": "stream",
     "text": [
      "To deposit money enter your pin Yashvi3616\n",
      "Enter a money price you want to withdraw 3000\n"
     ]
    },
    {
     "name": "stdout",
     "output_type": "stream",
     "text": [
      "Take your money\n"
     ]
    },
    {
     "name": "stdin",
     "output_type": "stream",
     "text": [
      "\n",
      "        How can I help you?\n",
      "        1.Press 1 to change pin\n",
      "        2.deposit money\n",
      "        3.check balance\n",
      "        4.withdraw money \n",
      "        5.press 5 to exit  3\n",
      "To deposit money enter your pin Yashvi3616\n"
     ]
    },
    {
     "name": "stdout",
     "output_type": "stream",
     "text": [
      "Your current balance is 12000\n"
     ]
    },
    {
     "name": "stdin",
     "output_type": "stream",
     "text": [
      "\n",
      "        How can I help you?\n",
      "        1.Press 1 to change pin\n",
      "        2.deposit money\n",
      "        3.check balance\n",
      "        4.withdraw money \n",
      "        5.press 5 to exit  5\n"
     ]
    },
    {
     "name": "stdout",
     "output_type": "stream",
     "text": [
      "Thank you for visiting\n"
     ]
    },
    {
     "name": "stdin",
     "output_type": "stream",
     "text": [
      "\n",
      "        How can I help you?\n",
      "        1.Press 1 to change pin\n",
      "        2.deposit money\n",
      "        3.check balance\n",
      "        4.withdraw money \n",
      "        5.press 5 to exit  5\n"
     ]
    },
    {
     "name": "stdout",
     "output_type": "stream",
     "text": [
      "Thank you for visiting\n"
     ]
    }
   ],
   "source": [
    "a1=atm()\n",
    "a1.menu()"
   ]
  }
 ],
 "metadata": {
  "kernelspec": {
   "display_name": "Python [conda env:base] *",
   "language": "python",
   "name": "conda-base-py"
  },
  "language_info": {
   "codemirror_mode": {
    "name": "ipython",
    "version": 3
   },
   "file_extension": ".py",
   "mimetype": "text/x-python",
   "name": "python",
   "nbconvert_exporter": "python",
   "pygments_lexer": "ipython3",
   "version": "3.12.7"
  }
 },
 "nbformat": 4,
 "nbformat_minor": 5
}
